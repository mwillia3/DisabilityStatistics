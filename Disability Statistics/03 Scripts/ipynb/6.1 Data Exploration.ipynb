{
 "cells": [
  {
   "cell_type": "markdown",
   "id": "31fb8c50",
   "metadata": {},
   "source": [
    "# 6.1 Sourcing Open Data\n",
    "\n",
    "### This script includes the following points:\n",
    "\n",
    "### 1. Data Information and Basic Statistics\n",
    "### 2. Missing Values\n",
    "### 3. Data Types\n",
    "### 4. Duplicates"
   ]
  },
  {
   "cell_type": "code",
   "execution_count": 1,
   "id": "8c786a47",
   "metadata": {},
   "outputs": [],
   "source": [
    "#Importing Libraries\n",
    "import pandas as pd\n",
    "import numpy as np\n",
    "import os"
   ]
  },
  {
   "cell_type": "code",
   "execution_count": 2,
   "id": "2e69ecf7",
   "metadata": {},
   "outputs": [],
   "source": [
    "#Import Data\n",
    "path = r\"D:\\Users\\Marlo\\OneDrive\\OneDrive - South Washington County Schools\\Home\\job support\\Coursework\\Achievement 6\\Disability Statistics\""
   ]
  },
  {
   "cell_type": "code",
   "execution_count": 3,
   "id": "15988218",
   "metadata": {},
   "outputs": [],
   "source": [
    "prev = pd.read_csv(os.path.join(path, '02 Data', 'Prepared Data', 'Disability Prevalence.csv'))"
   ]
  },
  {
   "cell_type": "code",
   "execution_count": 4,
   "id": "4cd9a891",
   "metadata": {},
   "outputs": [],
   "source": [
    "employ = pd.read_csv(os.path.join(path, '02 Data', 'Prepared Data', 'Employment & Poverty.csv'))"
   ]
  },
  {
   "cell_type": "code",
   "execution_count": 5,
   "id": "76b7793d",
   "metadata": {},
   "outputs": [],
   "source": [
    "earn = pd.read_csv(os.path.join(path, '02 Data', 'Prepared Data', 'Earnings.csv'))"
   ]
  },
  {
   "cell_type": "markdown",
   "id": "e1850be9",
   "metadata": {},
   "source": [
    "## 1. Data Information and Basic Statistics"
   ]
  },
  {
   "cell_type": "code",
   "execution_count": 6,
   "id": "dd8fa4df",
   "metadata": {},
   "outputs": [
    {
     "data": {
      "text/html": [
       "<div>\n",
       "<style scoped>\n",
       "    .dataframe tbody tr th:only-of-type {\n",
       "        vertical-align: middle;\n",
       "    }\n",
       "\n",
       "    .dataframe tbody tr th {\n",
       "        vertical-align: top;\n",
       "    }\n",
       "\n",
       "    .dataframe thead th {\n",
       "        text-align: right;\n",
       "    }\n",
       "</style>\n",
       "<table border=\"1\" class=\"dataframe\">\n",
       "  <thead>\n",
       "    <tr style=\"text-align: right;\">\n",
       "      <th></th>\n",
       "      <th>state</th>\n",
       "      <th>total_pop</th>\n",
       "      <th>disability_category</th>\n",
       "      <th>age_group</th>\n",
       "      <th>race</th>\n",
       "      <th>gender</th>\n",
       "      <th>disability_count</th>\n",
       "      <th>percent_of_total</th>\n",
       "      <th>percent_of_disabilities</th>\n",
       "    </tr>\n",
       "  </thead>\n",
       "  <tbody>\n",
       "    <tr>\n",
       "      <th>0</th>\n",
       "      <td>US</td>\n",
       "      <td>326942778</td>\n",
       "      <td>All</td>\n",
       "      <td>All</td>\n",
       "      <td>All</td>\n",
       "      <td>All</td>\n",
       "      <td>42601999.0</td>\n",
       "      <td>13.0</td>\n",
       "      <td>NaN</td>\n",
       "    </tr>\n",
       "    <tr>\n",
       "      <th>1</th>\n",
       "      <td>AL</td>\n",
       "      <td>4956828</td>\n",
       "      <td>All</td>\n",
       "      <td>All</td>\n",
       "      <td>All</td>\n",
       "      <td>All</td>\n",
       "      <td>805849.0</td>\n",
       "      <td>16.3</td>\n",
       "      <td>NaN</td>\n",
       "    </tr>\n",
       "    <tr>\n",
       "      <th>2</th>\n",
       "      <td>AK</td>\n",
       "      <td>703612</td>\n",
       "      <td>All</td>\n",
       "      <td>All</td>\n",
       "      <td>All</td>\n",
       "      <td>All</td>\n",
       "      <td>99194.0</td>\n",
       "      <td>14.1</td>\n",
       "      <td>NaN</td>\n",
       "    </tr>\n",
       "    <tr>\n",
       "      <th>3</th>\n",
       "      <td>AZ</td>\n",
       "      <td>7175530</td>\n",
       "      <td>All</td>\n",
       "      <td>All</td>\n",
       "      <td>All</td>\n",
       "      <td>All</td>\n",
       "      <td>970430.0</td>\n",
       "      <td>13.5</td>\n",
       "      <td>NaN</td>\n",
       "    </tr>\n",
       "    <tr>\n",
       "      <th>4</th>\n",
       "      <td>AR</td>\n",
       "      <td>2975548</td>\n",
       "      <td>All</td>\n",
       "      <td>All</td>\n",
       "      <td>All</td>\n",
       "      <td>All</td>\n",
       "      <td>517723.0</td>\n",
       "      <td>17.4</td>\n",
       "      <td>NaN</td>\n",
       "    </tr>\n",
       "  </tbody>\n",
       "</table>\n",
       "</div>"
      ],
      "text/plain": [
       "  state  total_pop disability_category age_group race gender  \\\n",
       "0    US  326942778                 All       All  All    All   \n",
       "1    AL    4956828                 All       All  All    All   \n",
       "2    AK     703612                 All       All  All    All   \n",
       "3    AZ    7175530                 All       All  All    All   \n",
       "4    AR    2975548                 All       All  All    All   \n",
       "\n",
       "   disability_count  percent_of_total  percent_of_disabilities  \n",
       "0        42601999.0              13.0                      NaN  \n",
       "1          805849.0              16.3                      NaN  \n",
       "2           99194.0              14.1                      NaN  \n",
       "3          970430.0              13.5                      NaN  \n",
       "4          517723.0              17.4                      NaN  "
      ]
     },
     "execution_count": 6,
     "metadata": {},
     "output_type": "execute_result"
    }
   ],
   "source": [
    "#Info on disability prevalence data set\n",
    "prev.head()"
   ]
  },
  {
   "cell_type": "code",
   "execution_count": 7,
   "id": "28701891",
   "metadata": {},
   "outputs": [
    {
     "data": {
      "text/plain": [
       "(4030, 9)"
      ]
     },
     "execution_count": 7,
     "metadata": {},
     "output_type": "execute_result"
    }
   ],
   "source": [
    "prev.shape"
   ]
  },
  {
   "cell_type": "code",
   "execution_count": 8,
   "id": "25b944a3",
   "metadata": {},
   "outputs": [
    {
     "data": {
      "text/html": [
       "<div>\n",
       "<style scoped>\n",
       "    .dataframe tbody tr th:only-of-type {\n",
       "        vertical-align: middle;\n",
       "    }\n",
       "\n",
       "    .dataframe tbody tr th {\n",
       "        vertical-align: top;\n",
       "    }\n",
       "\n",
       "    .dataframe thead th {\n",
       "        text-align: right;\n",
       "    }\n",
       "</style>\n",
       "<table border=\"1\" class=\"dataframe\">\n",
       "  <thead>\n",
       "    <tr style=\"text-align: right;\">\n",
       "      <th></th>\n",
       "      <th>total_pop</th>\n",
       "      <th>disability_count</th>\n",
       "      <th>percent_of_total</th>\n",
       "      <th>percent_of_disabilities</th>\n",
       "    </tr>\n",
       "  </thead>\n",
       "  <tbody>\n",
       "    <tr>\n",
       "      <th>count</th>\n",
       "      <td>4.030000e+03</td>\n",
       "      <td>4.014000e+03</td>\n",
       "      <td>4014.000000</td>\n",
       "      <td>3401.000000</td>\n",
       "    </tr>\n",
       "    <tr>\n",
       "      <th>mean</th>\n",
       "      <td>2.320673e+06</td>\n",
       "      <td>1.324406e+05</td>\n",
       "      <td>5.534554</td>\n",
       "      <td>31.391355</td>\n",
       "    </tr>\n",
       "    <tr>\n",
       "      <th>std</th>\n",
       "      <td>6.341655e+06</td>\n",
       "      <td>7.120808e+05</td>\n",
       "      <td>5.250360</td>\n",
       "      <td>15.614563</td>\n",
       "    </tr>\n",
       "    <tr>\n",
       "      <th>min</th>\n",
       "      <td>4.188000e+03</td>\n",
       "      <td>3.200000e+01</td>\n",
       "      <td>0.100000</td>\n",
       "      <td>0.000000</td>\n",
       "    </tr>\n",
       "    <tr>\n",
       "      <th>25%</th>\n",
       "      <td>2.818380e+05</td>\n",
       "      <td>8.133250e+03</td>\n",
       "      <td>2.300000</td>\n",
       "      <td>18.600000</td>\n",
       "    </tr>\n",
       "    <tr>\n",
       "      <th>50%</th>\n",
       "      <td>8.670870e+05</td>\n",
       "      <td>3.831850e+04</td>\n",
       "      <td>4.200000</td>\n",
       "      <td>30.000000</td>\n",
       "    </tr>\n",
       "    <tr>\n",
       "      <th>75%</th>\n",
       "      <td>2.820287e+06</td>\n",
       "      <td>1.334220e+05</td>\n",
       "      <td>6.500000</td>\n",
       "      <td>40.500000</td>\n",
       "    </tr>\n",
       "    <tr>\n",
       "      <th>max</th>\n",
       "      <td>3.269428e+08</td>\n",
       "      <td>4.260200e+07</td>\n",
       "      <td>41.300000</td>\n",
       "      <td>100.000000</td>\n",
       "    </tr>\n",
       "  </tbody>\n",
       "</table>\n",
       "</div>"
      ],
      "text/plain": [
       "          total_pop  disability_count  percent_of_total  \\\n",
       "count  4.030000e+03      4.014000e+03       4014.000000   \n",
       "mean   2.320673e+06      1.324406e+05          5.534554   \n",
       "std    6.341655e+06      7.120808e+05          5.250360   \n",
       "min    4.188000e+03      3.200000e+01          0.100000   \n",
       "25%    2.818380e+05      8.133250e+03          2.300000   \n",
       "50%    8.670870e+05      3.831850e+04          4.200000   \n",
       "75%    2.820287e+06      1.334220e+05          6.500000   \n",
       "max    3.269428e+08      4.260200e+07         41.300000   \n",
       "\n",
       "       percent_of_disabilities  \n",
       "count              3401.000000  \n",
       "mean                 31.391355  \n",
       "std                  15.614563  \n",
       "min                   0.000000  \n",
       "25%                  18.600000  \n",
       "50%                  30.000000  \n",
       "75%                  40.500000  \n",
       "max                 100.000000  "
      ]
     },
     "execution_count": 8,
     "metadata": {},
     "output_type": "execute_result"
    }
   ],
   "source": [
    "prev.describe()"
   ]
  },
  {
   "cell_type": "code",
   "execution_count": 9,
   "id": "545570dd",
   "metadata": {},
   "outputs": [
    {
     "data": {
      "text/html": [
       "<div>\n",
       "<style scoped>\n",
       "    .dataframe tbody tr th:only-of-type {\n",
       "        vertical-align: middle;\n",
       "    }\n",
       "\n",
       "    .dataframe tbody tr th {\n",
       "        vertical-align: top;\n",
       "    }\n",
       "\n",
       "    .dataframe thead th {\n",
       "        text-align: right;\n",
       "    }\n",
       "</style>\n",
       "<table border=\"1\" class=\"dataframe\">\n",
       "  <thead>\n",
       "    <tr style=\"text-align: right;\">\n",
       "      <th></th>\n",
       "      <th>state</th>\n",
       "      <th>total_pop</th>\n",
       "      <th>disability_category</th>\n",
       "      <th>race</th>\n",
       "      <th>gender</th>\n",
       "      <th>employed_count</th>\n",
       "      <th>disability_employed</th>\n",
       "      <th>no_disability_employed</th>\n",
       "      <th>employment_gap</th>\n",
       "      <th>poverty_count</th>\n",
       "      <th>disability_poverty</th>\n",
       "      <th>no_disability_poverty</th>\n",
       "      <th>poverty_gap</th>\n",
       "    </tr>\n",
       "  </thead>\n",
       "  <tbody>\n",
       "    <tr>\n",
       "      <th>0</th>\n",
       "      <td>AL</td>\n",
       "      <td>427044</td>\n",
       "      <td>All</td>\n",
       "      <td>All</td>\n",
       "      <td>All</td>\n",
       "      <td>138077.0</td>\n",
       "      <td>32.3</td>\n",
       "      <td>74.6</td>\n",
       "      <td>42.3</td>\n",
       "      <td>117608.0</td>\n",
       "      <td>27.5</td>\n",
       "      <td>14.4</td>\n",
       "      <td>13.1</td>\n",
       "    </tr>\n",
       "    <tr>\n",
       "      <th>1</th>\n",
       "      <td>AK</td>\n",
       "      <td>57446</td>\n",
       "      <td>All</td>\n",
       "      <td>All</td>\n",
       "      <td>All</td>\n",
       "      <td>26466.0</td>\n",
       "      <td>46.1</td>\n",
       "      <td>74.9</td>\n",
       "      <td>28.8</td>\n",
       "      <td>13785.0</td>\n",
       "      <td>24.0</td>\n",
       "      <td>9.1</td>\n",
       "      <td>14.9</td>\n",
       "    </tr>\n",
       "    <tr>\n",
       "      <th>2</th>\n",
       "      <td>AZ</td>\n",
       "      <td>462266</td>\n",
       "      <td>All</td>\n",
       "      <td>All</td>\n",
       "      <td>All</td>\n",
       "      <td>203672.0</td>\n",
       "      <td>44.1</td>\n",
       "      <td>76.0</td>\n",
       "      <td>31.9</td>\n",
       "      <td>101643.0</td>\n",
       "      <td>22.0</td>\n",
       "      <td>12.1</td>\n",
       "      <td>9.9</td>\n",
       "    </tr>\n",
       "    <tr>\n",
       "      <th>3</th>\n",
       "      <td>AR</td>\n",
       "      <td>270410</td>\n",
       "      <td>All</td>\n",
       "      <td>All</td>\n",
       "      <td>All</td>\n",
       "      <td>95322.0</td>\n",
       "      <td>35.3</td>\n",
       "      <td>76.8</td>\n",
       "      <td>41.5</td>\n",
       "      <td>75911.0</td>\n",
       "      <td>28.1</td>\n",
       "      <td>14.4</td>\n",
       "      <td>13.7</td>\n",
       "    </tr>\n",
       "    <tr>\n",
       "      <th>4</th>\n",
       "      <td>CA</td>\n",
       "      <td>2094680</td>\n",
       "      <td>All</td>\n",
       "      <td>All</td>\n",
       "      <td>All</td>\n",
       "      <td>825876.0</td>\n",
       "      <td>39.4</td>\n",
       "      <td>73.5</td>\n",
       "      <td>34.1</td>\n",
       "      <td>470724.0</td>\n",
       "      <td>22.5</td>\n",
       "      <td>11.3</td>\n",
       "      <td>11.2</td>\n",
       "    </tr>\n",
       "  </tbody>\n",
       "</table>\n",
       "</div>"
      ],
      "text/plain": [
       "  state  total_pop disability_category race gender  employed_count  \\\n",
       "0    AL     427044                 All  All    All        138077.0   \n",
       "1    AK      57446                 All  All    All         26466.0   \n",
       "2    AZ     462266                 All  All    All        203672.0   \n",
       "3    AR     270410                 All  All    All         95322.0   \n",
       "4    CA    2094680                 All  All    All        825876.0   \n",
       "\n",
       "   disability_employed  no_disability_employed  employment_gap  poverty_count  \\\n",
       "0                 32.3                    74.6            42.3       117608.0   \n",
       "1                 46.1                    74.9            28.8        13785.0   \n",
       "2                 44.1                    76.0            31.9       101643.0   \n",
       "3                 35.3                    76.8            41.5        75911.0   \n",
       "4                 39.4                    73.5            34.1       470724.0   \n",
       "\n",
       "   disability_poverty  no_disability_poverty  poverty_gap  \n",
       "0                27.5                   14.4         13.1  \n",
       "1                24.0                    9.1         14.9  \n",
       "2                22.0                   12.1          9.9  \n",
       "3                28.1                   14.4         13.7  \n",
       "4                22.5                   11.3         11.2  "
      ]
     },
     "execution_count": 9,
     "metadata": {},
     "output_type": "execute_result"
    }
   ],
   "source": [
    "#Info on employment & poverty data set\n",
    "employ.head()"
   ]
  },
  {
   "cell_type": "code",
   "execution_count": 10,
   "id": "25254e30",
   "metadata": {},
   "outputs": [
    {
     "data": {
      "text/plain": [
       "(714, 13)"
      ]
     },
     "execution_count": 10,
     "metadata": {},
     "output_type": "execute_result"
    }
   ],
   "source": [
    "employ.shape"
   ]
  },
  {
   "cell_type": "code",
   "execution_count": 11,
   "id": "60743b7a",
   "metadata": {},
   "outputs": [
    {
     "data": {
      "text/html": [
       "<div>\n",
       "<style scoped>\n",
       "    .dataframe tbody tr th:only-of-type {\n",
       "        vertical-align: middle;\n",
       "    }\n",
       "\n",
       "    .dataframe tbody tr th {\n",
       "        vertical-align: top;\n",
       "    }\n",
       "\n",
       "    .dataframe thead th {\n",
       "        text-align: right;\n",
       "    }\n",
       "</style>\n",
       "<table border=\"1\" class=\"dataframe\">\n",
       "  <thead>\n",
       "    <tr style=\"text-align: right;\">\n",
       "      <th></th>\n",
       "      <th>total_pop</th>\n",
       "      <th>employed_count</th>\n",
       "      <th>disability_employed</th>\n",
       "      <th>no_disability_employed</th>\n",
       "      <th>employment_gap</th>\n",
       "      <th>poverty_count</th>\n",
       "      <th>disability_poverty</th>\n",
       "      <th>no_disability_poverty</th>\n",
       "      <th>poverty_gap</th>\n",
       "    </tr>\n",
       "  </thead>\n",
       "  <tbody>\n",
       "    <tr>\n",
       "      <th>count</th>\n",
       "      <td>7.140000e+02</td>\n",
       "      <td>710.000000</td>\n",
       "      <td>709.000000</td>\n",
       "      <td>408.000000</td>\n",
       "      <td>403.000000</td>\n",
       "      <td>710.000000</td>\n",
       "      <td>710.000000</td>\n",
       "      <td>408.000000</td>\n",
       "      <td>404.000000</td>\n",
       "    </tr>\n",
       "    <tr>\n",
       "      <th>mean</th>\n",
       "      <td>1.427106e+05</td>\n",
       "      <td>53556.743662</td>\n",
       "      <td>39.425106</td>\n",
       "      <td>76.457108</td>\n",
       "      <td>33.146650</td>\n",
       "      <td>57619.433803</td>\n",
       "      <td>23.171127</td>\n",
       "      <td>14.866667</td>\n",
       "      <td>9.026485</td>\n",
       "    </tr>\n",
       "    <tr>\n",
       "      <th>std</th>\n",
       "      <td>2.058733e+05</td>\n",
       "      <td>81685.193259</td>\n",
       "      <td>13.563442</td>\n",
       "      <td>4.894689</td>\n",
       "      <td>9.706922</td>\n",
       "      <td>74003.606530</td>\n",
       "      <td>7.454352</td>\n",
       "      <td>5.935382</td>\n",
       "      <td>7.468924</td>\n",
       "    </tr>\n",
       "    <tr>\n",
       "      <th>min</th>\n",
       "      <td>9.400000e+01</td>\n",
       "      <td>26.000000</td>\n",
       "      <td>7.600000</td>\n",
       "      <td>54.900000</td>\n",
       "      <td>-18.000000</td>\n",
       "      <td>13.000000</td>\n",
       "      <td>2.000000</td>\n",
       "      <td>4.800000</td>\n",
       "      <td>-25.600000</td>\n",
       "    </tr>\n",
       "    <tr>\n",
       "      <th>25%</th>\n",
       "      <td>2.258775e+04</td>\n",
       "      <td>8520.750000</td>\n",
       "      <td>30.600000</td>\n",
       "      <td>73.600000</td>\n",
       "      <td>29.250000</td>\n",
       "      <td>9717.000000</td>\n",
       "      <td>18.825000</td>\n",
       "      <td>10.800000</td>\n",
       "      <td>6.100000</td>\n",
       "    </tr>\n",
       "    <tr>\n",
       "      <th>50%</th>\n",
       "      <td>7.033400e+04</td>\n",
       "      <td>24821.500000</td>\n",
       "      <td>40.100000</td>\n",
       "      <td>76.400000</td>\n",
       "      <td>34.500000</td>\n",
       "      <td>31155.500000</td>\n",
       "      <td>22.600000</td>\n",
       "      <td>13.300000</td>\n",
       "      <td>8.600000</td>\n",
       "    </tr>\n",
       "    <tr>\n",
       "      <th>75%</th>\n",
       "      <td>1.823118e+05</td>\n",
       "      <td>66670.750000</td>\n",
       "      <td>47.900000</td>\n",
       "      <td>79.700000</td>\n",
       "      <td>38.800000</td>\n",
       "      <td>78076.000000</td>\n",
       "      <td>26.800000</td>\n",
       "      <td>17.400000</td>\n",
       "      <td>11.500000</td>\n",
       "    </tr>\n",
       "    <tr>\n",
       "      <th>max</th>\n",
       "      <td>2.094680e+06</td>\n",
       "      <td>832902.000000</td>\n",
       "      <td>95.000000</td>\n",
       "      <td>90.900000</td>\n",
       "      <td>70.100000</td>\n",
       "      <td>470724.000000</td>\n",
       "      <td>100.000000</td>\n",
       "      <td>47.500000</td>\n",
       "      <td>85.100000</td>\n",
       "    </tr>\n",
       "  </tbody>\n",
       "</table>\n",
       "</div>"
      ],
      "text/plain": [
       "          total_pop  employed_count  disability_employed  \\\n",
       "count  7.140000e+02      710.000000           709.000000   \n",
       "mean   1.427106e+05    53556.743662            39.425106   \n",
       "std    2.058733e+05    81685.193259            13.563442   \n",
       "min    9.400000e+01       26.000000             7.600000   \n",
       "25%    2.258775e+04     8520.750000            30.600000   \n",
       "50%    7.033400e+04    24821.500000            40.100000   \n",
       "75%    1.823118e+05    66670.750000            47.900000   \n",
       "max    2.094680e+06   832902.000000            95.000000   \n",
       "\n",
       "       no_disability_employed  employment_gap  poverty_count  \\\n",
       "count              408.000000      403.000000     710.000000   \n",
       "mean                76.457108       33.146650   57619.433803   \n",
       "std                  4.894689        9.706922   74003.606530   \n",
       "min                 54.900000      -18.000000      13.000000   \n",
       "25%                 73.600000       29.250000    9717.000000   \n",
       "50%                 76.400000       34.500000   31155.500000   \n",
       "75%                 79.700000       38.800000   78076.000000   \n",
       "max                 90.900000       70.100000  470724.000000   \n",
       "\n",
       "       disability_poverty  no_disability_poverty  poverty_gap  \n",
       "count          710.000000             408.000000   404.000000  \n",
       "mean            23.171127              14.866667     9.026485  \n",
       "std              7.454352               5.935382     7.468924  \n",
       "min              2.000000               4.800000   -25.600000  \n",
       "25%             18.825000              10.800000     6.100000  \n",
       "50%             22.600000              13.300000     8.600000  \n",
       "75%             26.800000              17.400000    11.500000  \n",
       "max            100.000000              47.500000    85.100000  "
      ]
     },
     "execution_count": 11,
     "metadata": {},
     "output_type": "execute_result"
    }
   ],
   "source": [
    "employ.describe()"
   ]
  },
  {
   "cell_type": "code",
   "execution_count": 12,
   "id": "7f50e416",
   "metadata": {},
   "outputs": [
    {
     "data": {
      "text/html": [
       "<div>\n",
       "<style scoped>\n",
       "    .dataframe tbody tr th:only-of-type {\n",
       "        vertical-align: middle;\n",
       "    }\n",
       "\n",
       "    .dataframe tbody tr th {\n",
       "        vertical-align: top;\n",
       "    }\n",
       "\n",
       "    .dataframe thead th {\n",
       "        text-align: right;\n",
       "    }\n",
       "</style>\n",
       "<table border=\"1\" class=\"dataframe\">\n",
       "  <thead>\n",
       "    <tr style=\"text-align: right;\">\n",
       "      <th></th>\n",
       "      <th>state</th>\n",
       "      <th>total_earnings</th>\n",
       "      <th>no_disability_earnings</th>\n",
       "      <th>disability_earnings</th>\n",
       "      <th>earnings_gap</th>\n",
       "      <th>SSDI_allowance_rate</th>\n",
       "      <th>min_wage_rate</th>\n",
       "      <th>Unnamed: 7</th>\n",
       "      <th>Unnamed: 8</th>\n",
       "    </tr>\n",
       "  </thead>\n",
       "  <tbody>\n",
       "    <tr>\n",
       "      <th>0</th>\n",
       "      <td>AL</td>\n",
       "      <td>44212.0</td>\n",
       "      <td>44278.0</td>\n",
       "      <td>40266.0</td>\n",
       "      <td>4012.0</td>\n",
       "      <td>35.3</td>\n",
       "      <td>7.25</td>\n",
       "      <td>NaN</td>\n",
       "      <td>NaN</td>\n",
       "    </tr>\n",
       "    <tr>\n",
       "      <th>1</th>\n",
       "      <td>AK</td>\n",
       "      <td>58319.0</td>\n",
       "      <td>59291.0</td>\n",
       "      <td>53857.0</td>\n",
       "      <td>5434.0</td>\n",
       "      <td>57.7</td>\n",
       "      <td>10.34</td>\n",
       "      <td>NaN</td>\n",
       "      <td>NaN</td>\n",
       "    </tr>\n",
       "    <tr>\n",
       "      <th>2</th>\n",
       "      <td>AZ</td>\n",
       "      <td>51055.0</td>\n",
       "      <td>51404.0</td>\n",
       "      <td>43242.0</td>\n",
       "      <td>8162.0</td>\n",
       "      <td>35.7</td>\n",
       "      <td>12.80</td>\n",
       "      <td>NaN</td>\n",
       "      <td>NaN</td>\n",
       "    </tr>\n",
       "    <tr>\n",
       "      <th>3</th>\n",
       "      <td>AR</td>\n",
       "      <td>41172.0</td>\n",
       "      <td>41192.0</td>\n",
       "      <td>33688.0</td>\n",
       "      <td>7504.0</td>\n",
       "      <td>38.7</td>\n",
       "      <td>11.00</td>\n",
       "      <td>NaN</td>\n",
       "      <td>NaN</td>\n",
       "    </tr>\n",
       "    <tr>\n",
       "      <th>4</th>\n",
       "      <td>CA</td>\n",
       "      <td>60861.0</td>\n",
       "      <td>60970.0</td>\n",
       "      <td>51427.0</td>\n",
       "      <td>9543.0</td>\n",
       "      <td>36.0</td>\n",
       "      <td>14.00</td>\n",
       "      <td>NaN</td>\n",
       "      <td>NaN</td>\n",
       "    </tr>\n",
       "  </tbody>\n",
       "</table>\n",
       "</div>"
      ],
      "text/plain": [
       "  state  total_earnings  no_disability_earnings  disability_earnings  \\\n",
       "0    AL         44212.0                 44278.0              40266.0   \n",
       "1    AK         58319.0                 59291.0              53857.0   \n",
       "2    AZ         51055.0                 51404.0              43242.0   \n",
       "3    AR         41172.0                 41192.0              33688.0   \n",
       "4    CA         60861.0                 60970.0              51427.0   \n",
       "\n",
       "   earnings_gap  SSDI_allowance_rate  min_wage_rate  Unnamed: 7  Unnamed: 8  \n",
       "0        4012.0                 35.3           7.25         NaN         NaN  \n",
       "1        5434.0                 57.7          10.34         NaN         NaN  \n",
       "2        8162.0                 35.7          12.80         NaN         NaN  \n",
       "3        7504.0                 38.7          11.00         NaN         NaN  \n",
       "4        9543.0                 36.0          14.00         NaN         NaN  "
      ]
     },
     "execution_count": 12,
     "metadata": {},
     "output_type": "execute_result"
    }
   ],
   "source": [
    "#Info on earnings data set\n",
    "earn.head()"
   ]
  },
  {
   "cell_type": "code",
   "execution_count": 13,
   "id": "58f01b2b",
   "metadata": {},
   "outputs": [
    {
     "data": {
      "text/plain": [
       "(59, 9)"
      ]
     },
     "execution_count": 13,
     "metadata": {},
     "output_type": "execute_result"
    }
   ],
   "source": [
    "earn.shape"
   ]
  },
  {
   "cell_type": "markdown",
   "id": "ceaf31ed",
   "metadata": {},
   "source": [
    "There are only 51 rows and 7 columns in this data set. Will need to fix later on."
   ]
  },
  {
   "cell_type": "code",
   "execution_count": 14,
   "id": "d5b5e975",
   "metadata": {},
   "outputs": [
    {
     "data": {
      "text/html": [
       "<div>\n",
       "<style scoped>\n",
       "    .dataframe tbody tr th:only-of-type {\n",
       "        vertical-align: middle;\n",
       "    }\n",
       "\n",
       "    .dataframe tbody tr th {\n",
       "        vertical-align: top;\n",
       "    }\n",
       "\n",
       "    .dataframe thead th {\n",
       "        text-align: right;\n",
       "    }\n",
       "</style>\n",
       "<table border=\"1\" class=\"dataframe\">\n",
       "  <thead>\n",
       "    <tr style=\"text-align: right;\">\n",
       "      <th></th>\n",
       "      <th>total_earnings</th>\n",
       "      <th>no_disability_earnings</th>\n",
       "      <th>disability_earnings</th>\n",
       "      <th>earnings_gap</th>\n",
       "      <th>SSDI_allowance_rate</th>\n",
       "      <th>min_wage_rate</th>\n",
       "      <th>Unnamed: 7</th>\n",
       "      <th>Unnamed: 8</th>\n",
       "    </tr>\n",
       "  </thead>\n",
       "  <tbody>\n",
       "    <tr>\n",
       "      <th>count</th>\n",
       "      <td>51.000000</td>\n",
       "      <td>51.000000</td>\n",
       "      <td>51.000000</td>\n",
       "      <td>51.000000</td>\n",
       "      <td>51.000000</td>\n",
       "      <td>51.000000</td>\n",
       "      <td>0.0</td>\n",
       "      <td>0.0</td>\n",
       "    </tr>\n",
       "    <tr>\n",
       "      <th>mean</th>\n",
       "      <td>53042.058824</td>\n",
       "      <td>53520.196078</td>\n",
       "      <td>44875.372549</td>\n",
       "      <td>8644.823529</td>\n",
       "      <td>41.200000</td>\n",
       "      <td>9.987059</td>\n",
       "      <td>NaN</td>\n",
       "      <td>NaN</td>\n",
       "    </tr>\n",
       "    <tr>\n",
       "      <th>std</th>\n",
       "      <td>8836.202543</td>\n",
       "      <td>8906.085838</td>\n",
       "      <td>7136.892808</td>\n",
       "      <td>4010.603584</td>\n",
       "      <td>5.532956</td>\n",
       "      <td>2.637969</td>\n",
       "      <td>NaN</td>\n",
       "      <td>NaN</td>\n",
       "    </tr>\n",
       "    <tr>\n",
       "      <th>min</th>\n",
       "      <td>40890.000000</td>\n",
       "      <td>40912.000000</td>\n",
       "      <td>33307.000000</td>\n",
       "      <td>-2639.000000</td>\n",
       "      <td>32.500000</td>\n",
       "      <td>7.250000</td>\n",
       "      <td>NaN</td>\n",
       "      <td>NaN</td>\n",
       "    </tr>\n",
       "    <tr>\n",
       "      <th>25%</th>\n",
       "      <td>46332.500000</td>\n",
       "      <td>46765.500000</td>\n",
       "      <td>40713.500000</td>\n",
       "      <td>5599.000000</td>\n",
       "      <td>36.950000</td>\n",
       "      <td>7.250000</td>\n",
       "      <td>NaN</td>\n",
       "      <td>NaN</td>\n",
       "    </tr>\n",
       "    <tr>\n",
       "      <th>50%</th>\n",
       "      <td>51400.000000</td>\n",
       "      <td>51413.000000</td>\n",
       "      <td>43228.000000</td>\n",
       "      <td>8837.000000</td>\n",
       "      <td>41.100000</td>\n",
       "      <td>9.950000</td>\n",
       "      <td>NaN</td>\n",
       "      <td>NaN</td>\n",
       "    </tr>\n",
       "    <tr>\n",
       "      <th>75%</th>\n",
       "      <td>57069.500000</td>\n",
       "      <td>58445.500000</td>\n",
       "      <td>49509.000000</td>\n",
       "      <td>10294.000000</td>\n",
       "      <td>44.550000</td>\n",
       "      <td>12.375000</td>\n",
       "      <td>NaN</td>\n",
       "      <td>NaN</td>\n",
       "    </tr>\n",
       "    <tr>\n",
       "      <th>max</th>\n",
       "      <td>91860.000000</td>\n",
       "      <td>92266.000000</td>\n",
       "      <td>71474.000000</td>\n",
       "      <td>20792.000000</td>\n",
       "      <td>57.700000</td>\n",
       "      <td>16.100000</td>\n",
       "      <td>NaN</td>\n",
       "      <td>NaN</td>\n",
       "    </tr>\n",
       "  </tbody>\n",
       "</table>\n",
       "</div>"
      ],
      "text/plain": [
       "       total_earnings  no_disability_earnings  disability_earnings  \\\n",
       "count       51.000000               51.000000            51.000000   \n",
       "mean     53042.058824            53520.196078         44875.372549   \n",
       "std       8836.202543             8906.085838          7136.892808   \n",
       "min      40890.000000            40912.000000         33307.000000   \n",
       "25%      46332.500000            46765.500000         40713.500000   \n",
       "50%      51400.000000            51413.000000         43228.000000   \n",
       "75%      57069.500000            58445.500000         49509.000000   \n",
       "max      91860.000000            92266.000000         71474.000000   \n",
       "\n",
       "       earnings_gap  SSDI_allowance_rate  min_wage_rate  Unnamed: 7  \\\n",
       "count     51.000000            51.000000      51.000000         0.0   \n",
       "mean    8644.823529            41.200000       9.987059         NaN   \n",
       "std     4010.603584             5.532956       2.637969         NaN   \n",
       "min    -2639.000000            32.500000       7.250000         NaN   \n",
       "25%     5599.000000            36.950000       7.250000         NaN   \n",
       "50%     8837.000000            41.100000       9.950000         NaN   \n",
       "75%    10294.000000            44.550000      12.375000         NaN   \n",
       "max    20792.000000            57.700000      16.100000         NaN   \n",
       "\n",
       "       Unnamed: 8  \n",
       "count         0.0  \n",
       "mean          NaN  \n",
       "std           NaN  \n",
       "min           NaN  \n",
       "25%           NaN  \n",
       "50%           NaN  \n",
       "75%           NaN  \n",
       "max           NaN  "
      ]
     },
     "execution_count": 14,
     "metadata": {},
     "output_type": "execute_result"
    }
   ],
   "source": [
    "earn.describe()"
   ]
  },
  {
   "cell_type": "markdown",
   "id": "2a9e7105",
   "metadata": {},
   "source": [
    "## 2. Missing Values"
   ]
  },
  {
   "cell_type": "code",
   "execution_count": 15,
   "id": "fb851438",
   "metadata": {},
   "outputs": [
    {
     "data": {
      "text/plain": [
       "state                        0\n",
       "total_pop                    0\n",
       "disability_category          0\n",
       "age_group                    0\n",
       "race                         0\n",
       "gender                       0\n",
       "disability_count            16\n",
       "percent_of_total            16\n",
       "percent_of_disabilities    629\n",
       "dtype: int64"
      ]
     },
     "execution_count": 15,
     "metadata": {},
     "output_type": "execute_result"
    }
   ],
   "source": [
    "#Missing Values for disability prevalence data set\n",
    "prev.isnull().sum()"
   ]
  },
  {
   "cell_type": "markdown",
   "id": "b4619946",
   "metadata": {},
   "source": [
    "- 16 missing values in the columns disability_count, percent_of_total, and percent_of_disabilities are due to no information being available and will remain blank for that reason.\n",
    "- 607 missing values in the column percent_of_disabilities is due to these rows being information about all disabilities so it cannot be compared to all disabilities. They will stay blank as a result."
   ]
  },
  {
   "cell_type": "code",
   "execution_count": 16,
   "id": "0cb36dc8",
   "metadata": {},
   "outputs": [
    {
     "data": {
      "text/plain": [
       "state                       0\n",
       "total_pop                   0\n",
       "disability_category         0\n",
       "race                        0\n",
       "gender                      0\n",
       "employed_count              4\n",
       "disability_employed         5\n",
       "no_disability_employed    306\n",
       "employment_gap            311\n",
       "poverty_count               4\n",
       "disability_poverty          4\n",
       "no_disability_poverty     306\n",
       "poverty_gap               310\n",
       "dtype: int64"
      ]
     },
     "execution_count": 16,
     "metadata": {},
     "output_type": "execute_result"
    }
   ],
   "source": [
    "#Missing Values for employment & poverty data set\n",
    "employ.isnull().sum()"
   ]
  },
  {
   "cell_type": "markdown",
   "id": "1a0b9628",
   "metadata": {},
   "source": [
    "- There are 4-5 missing values in the columns employed_count, disability_employed, employment_gap, poverty_count, disability_poverty, and poverty_gap due to no information being available and will remain blank for that reason.\n",
    "- 306 missing values in the columns no_disability_employed, employment_gap, no_disability_poverty, and poverty_gap is dues to these rows being information about one specific disability category so cannot be compared to all people without disabilities. They will stay blank as a result."
   ]
  },
  {
   "cell_type": "code",
   "execution_count": 17,
   "id": "a53b5ec6",
   "metadata": {},
   "outputs": [
    {
     "data": {
      "text/plain": [
       "state                      8\n",
       "total_earnings             8\n",
       "no_disability_earnings     8\n",
       "disability_earnings        8\n",
       "earnings_gap               8\n",
       "SSDI_allowance_rate        8\n",
       "min_wage_rate              8\n",
       "Unnamed: 7                59\n",
       "Unnamed: 8                59\n",
       "dtype: int64"
      ]
     },
     "execution_count": 17,
     "metadata": {},
     "output_type": "execute_result"
    }
   ],
   "source": [
    "#Missing Values for earnings data set\n",
    "earn.isnull().sum()"
   ]
  },
  {
   "cell_type": "markdown",
   "id": "cd8fadac",
   "metadata": {},
   "source": [
    "2 empty columns and 8 empty rows were added to this data set. They need to be deleted."
   ]
  },
  {
   "cell_type": "code",
   "execution_count": 18,
   "id": "220ddc8d",
   "metadata": {},
   "outputs": [],
   "source": [
    "#Delete 2 extra columns and 8 extra rows in earnings data set."
   ]
  },
  {
   "cell_type": "code",
   "execution_count": 19,
   "id": "ccf872b4",
   "metadata": {},
   "outputs": [],
   "source": [
    "earn = earn.drop('Unnamed: 7', axis = 'columns')"
   ]
  },
  {
   "cell_type": "code",
   "execution_count": 20,
   "id": "e0da2af8",
   "metadata": {},
   "outputs": [],
   "source": [
    "earn = earn.drop('Unnamed: 8', axis = 'columns')"
   ]
  },
  {
   "cell_type": "code",
   "execution_count": 21,
   "id": "f0d7c624",
   "metadata": {},
   "outputs": [
    {
     "data": {
      "text/plain": [
       "(59, 7)"
      ]
     },
     "execution_count": 21,
     "metadata": {},
     "output_type": "execute_result"
    }
   ],
   "source": [
    "earn.shape"
   ]
  },
  {
   "cell_type": "code",
   "execution_count": 22,
   "id": "a8946f53",
   "metadata": {},
   "outputs": [],
   "source": [
    "earn3 = earn.drop(index=earn.index[-8:])"
   ]
  },
  {
   "cell_type": "code",
   "execution_count": 23,
   "id": "7f6e3f78",
   "metadata": {},
   "outputs": [
    {
     "data": {
      "text/plain": [
       "(51, 7)"
      ]
     },
     "execution_count": 23,
     "metadata": {},
     "output_type": "execute_result"
    }
   ],
   "source": [
    "earn3.shape"
   ]
  },
  {
   "cell_type": "code",
   "execution_count": 24,
   "id": "7e629af3",
   "metadata": {},
   "outputs": [],
   "source": [
    "earn = earn3"
   ]
  },
  {
   "cell_type": "code",
   "execution_count": 25,
   "id": "9393fba6",
   "metadata": {},
   "outputs": [
    {
     "data": {
      "text/plain": [
       "(51, 7)"
      ]
     },
     "execution_count": 25,
     "metadata": {},
     "output_type": "execute_result"
    }
   ],
   "source": [
    "earn.shape"
   ]
  },
  {
   "cell_type": "code",
   "execution_count": 26,
   "id": "d5962e7d",
   "metadata": {},
   "outputs": [
    {
     "data": {
      "text/plain": [
       "state                     0\n",
       "total_earnings            0\n",
       "no_disability_earnings    0\n",
       "disability_earnings       0\n",
       "earnings_gap              0\n",
       "SSDI_allowance_rate       0\n",
       "min_wage_rate             0\n",
       "dtype: int64"
      ]
     },
     "execution_count": 26,
     "metadata": {},
     "output_type": "execute_result"
    }
   ],
   "source": [
    "#Missing Values for earnings data set\n",
    "earn.isnull().sum()"
   ]
  },
  {
   "cell_type": "markdown",
   "id": "5a7413c4",
   "metadata": {},
   "source": [
    "There are no missing values in the earnings data set."
   ]
  },
  {
   "cell_type": "markdown",
   "id": "d1e5f54d",
   "metadata": {},
   "source": [
    "## 3. Data Types"
   ]
  },
  {
   "cell_type": "code",
   "execution_count": 27,
   "id": "869ec162",
   "metadata": {},
   "outputs": [
    {
     "name": "stdout",
     "output_type": "stream",
     "text": [
      "<class 'pandas.core.frame.DataFrame'>\n",
      "RangeIndex: 4030 entries, 0 to 4029\n",
      "Data columns (total 9 columns):\n",
      " #   Column                   Non-Null Count  Dtype  \n",
      "---  ------                   --------------  -----  \n",
      " 0   state                    4030 non-null   object \n",
      " 1   total_pop                4030 non-null   int64  \n",
      " 2   disability_category      4030 non-null   object \n",
      " 3   age_group                4030 non-null   object \n",
      " 4   race                     4030 non-null   object \n",
      " 5   gender                   4030 non-null   object \n",
      " 6   disability_count         4014 non-null   float64\n",
      " 7   percent_of_total         4014 non-null   float64\n",
      " 8   percent_of_disabilities  3401 non-null   float64\n",
      "dtypes: float64(3), int64(1), object(5)\n",
      "memory usage: 283.5+ KB\n"
     ]
    }
   ],
   "source": [
    "#Check Data Types in disability prevalence dataset\n",
    "prev.info()"
   ]
  },
  {
   "cell_type": "code",
   "execution_count": 28,
   "id": "953527c4",
   "metadata": {},
   "outputs": [],
   "source": [
    "#Check for mixed-type data\n",
    "for col in prev.columns.tolist():\n",
    "    weird = (prev[[col]].applymap(type) != prev[[col]].iloc[0].apply(type)).any(axis = 1)\n",
    "    if len (prev[weird]) > 0:\n",
    "        print (col)"
   ]
  },
  {
   "cell_type": "code",
   "execution_count": 29,
   "id": "7d0d7e03",
   "metadata": {},
   "outputs": [],
   "source": [
    "prev['percent_of_disabilities']=prev['percent_of_disabilities'].astype('str')"
   ]
  },
  {
   "cell_type": "code",
   "execution_count": 30,
   "id": "9639f1a9",
   "metadata": {},
   "outputs": [],
   "source": [
    "#Check for mixed-type data\n",
    "for col in prev.columns.tolist():\n",
    "    weird = (prev[[col]].applymap(type) != prev[[col]].iloc[0].apply(type)).any(axis = 1)\n",
    "    if len (prev[weird]) > 0:\n",
    "        print (col)"
   ]
  },
  {
   "cell_type": "code",
   "execution_count": 31,
   "id": "60f0489f",
   "metadata": {},
   "outputs": [
    {
     "name": "stdout",
     "output_type": "stream",
     "text": [
      "<class 'pandas.core.frame.DataFrame'>\n",
      "RangeIndex: 714 entries, 0 to 713\n",
      "Data columns (total 13 columns):\n",
      " #   Column                  Non-Null Count  Dtype  \n",
      "---  ------                  --------------  -----  \n",
      " 0   state                   714 non-null    object \n",
      " 1   total_pop               714 non-null    int64  \n",
      " 2   disability_category     714 non-null    object \n",
      " 3   race                    714 non-null    object \n",
      " 4   gender                  714 non-null    object \n",
      " 5   employed_count          710 non-null    float64\n",
      " 6   disability_employed     709 non-null    float64\n",
      " 7   no_disability_employed  408 non-null    float64\n",
      " 8   employment_gap          403 non-null    float64\n",
      " 9   poverty_count           710 non-null    float64\n",
      " 10  disability_poverty      710 non-null    float64\n",
      " 11  no_disability_poverty   408 non-null    float64\n",
      " 12  poverty_gap             404 non-null    float64\n",
      "dtypes: float64(8), int64(1), object(4)\n",
      "memory usage: 72.6+ KB\n"
     ]
    }
   ],
   "source": [
    "#Check Data Types in employment & poverty dataset\n",
    "employ.info()"
   ]
  },
  {
   "cell_type": "code",
   "execution_count": 32,
   "id": "77ae081e",
   "metadata": {},
   "outputs": [
    {
     "name": "stdout",
     "output_type": "stream",
     "text": [
      "<class 'pandas.core.frame.DataFrame'>\n",
      "RangeIndex: 51 entries, 0 to 50\n",
      "Data columns (total 7 columns):\n",
      " #   Column                  Non-Null Count  Dtype  \n",
      "---  ------                  --------------  -----  \n",
      " 0   state                   51 non-null     object \n",
      " 1   total_earnings          51 non-null     float64\n",
      " 2   no_disability_earnings  51 non-null     float64\n",
      " 3   disability_earnings     51 non-null     float64\n",
      " 4   earnings_gap            51 non-null     float64\n",
      " 5   SSDI_allowance_rate     51 non-null     float64\n",
      " 6   min_wage_rate           51 non-null     float64\n",
      "dtypes: float64(6), object(1)\n",
      "memory usage: 2.9+ KB\n"
     ]
    }
   ],
   "source": [
    "#Check Data Types in earnings dataset\n",
    "earn.info()"
   ]
  },
  {
   "cell_type": "markdown",
   "id": "75da8e3a",
   "metadata": {},
   "source": [
    "## 4. Duplicates"
   ]
  },
  {
   "cell_type": "code",
   "execution_count": 33,
   "id": "235f154c",
   "metadata": {},
   "outputs": [
    {
     "data": {
      "text/html": [
       "<div>\n",
       "<style scoped>\n",
       "    .dataframe tbody tr th:only-of-type {\n",
       "        vertical-align: middle;\n",
       "    }\n",
       "\n",
       "    .dataframe tbody tr th {\n",
       "        vertical-align: top;\n",
       "    }\n",
       "\n",
       "    .dataframe thead th {\n",
       "        text-align: right;\n",
       "    }\n",
       "</style>\n",
       "<table border=\"1\" class=\"dataframe\">\n",
       "  <thead>\n",
       "    <tr style=\"text-align: right;\">\n",
       "      <th></th>\n",
       "      <th>state</th>\n",
       "      <th>total_pop</th>\n",
       "      <th>disability_category</th>\n",
       "      <th>age_group</th>\n",
       "      <th>race</th>\n",
       "      <th>gender</th>\n",
       "      <th>disability_count</th>\n",
       "      <th>percent_of_total</th>\n",
       "      <th>percent_of_disabilities</th>\n",
       "    </tr>\n",
       "  </thead>\n",
       "  <tbody>\n",
       "  </tbody>\n",
       "</table>\n",
       "</div>"
      ],
      "text/plain": [
       "Empty DataFrame\n",
       "Columns: [state, total_pop, disability_category, age_group, race, gender, disability_count, percent_of_total, percent_of_disabilities]\n",
       "Index: []"
      ]
     },
     "execution_count": 33,
     "metadata": {},
     "output_type": "execute_result"
    }
   ],
   "source": [
    "#Checking for duplicates in disability prevalence data set\n",
    "prev_dups = prev[prev.duplicated()]\n",
    "prev_dups"
   ]
  },
  {
   "cell_type": "code",
   "execution_count": 34,
   "id": "4df4a484",
   "metadata": {},
   "outputs": [
    {
     "data": {
      "text/html": [
       "<div>\n",
       "<style scoped>\n",
       "    .dataframe tbody tr th:only-of-type {\n",
       "        vertical-align: middle;\n",
       "    }\n",
       "\n",
       "    .dataframe tbody tr th {\n",
       "        vertical-align: top;\n",
       "    }\n",
       "\n",
       "    .dataframe thead th {\n",
       "        text-align: right;\n",
       "    }\n",
       "</style>\n",
       "<table border=\"1\" class=\"dataframe\">\n",
       "  <thead>\n",
       "    <tr style=\"text-align: right;\">\n",
       "      <th></th>\n",
       "      <th>state</th>\n",
       "      <th>total_pop</th>\n",
       "      <th>disability_category</th>\n",
       "      <th>race</th>\n",
       "      <th>gender</th>\n",
       "      <th>employed_count</th>\n",
       "      <th>disability_employed</th>\n",
       "      <th>no_disability_employed</th>\n",
       "      <th>employment_gap</th>\n",
       "      <th>poverty_count</th>\n",
       "      <th>disability_poverty</th>\n",
       "      <th>no_disability_poverty</th>\n",
       "      <th>poverty_gap</th>\n",
       "    </tr>\n",
       "  </thead>\n",
       "  <tbody>\n",
       "  </tbody>\n",
       "</table>\n",
       "</div>"
      ],
      "text/plain": [
       "Empty DataFrame\n",
       "Columns: [state, total_pop, disability_category, race, gender, employed_count, disability_employed, no_disability_employed, employment_gap, poverty_count, disability_poverty, no_disability_poverty, poverty_gap]\n",
       "Index: []"
      ]
     },
     "execution_count": 34,
     "metadata": {},
     "output_type": "execute_result"
    }
   ],
   "source": [
    "#Checking for duplicates in employment & poverty data set\n",
    "employ_dups = employ[employ.duplicated()]\n",
    "employ_dups"
   ]
  },
  {
   "cell_type": "code",
   "execution_count": 35,
   "id": "eeec0cb4",
   "metadata": {},
   "outputs": [
    {
     "data": {
      "text/html": [
       "<div>\n",
       "<style scoped>\n",
       "    .dataframe tbody tr th:only-of-type {\n",
       "        vertical-align: middle;\n",
       "    }\n",
       "\n",
       "    .dataframe tbody tr th {\n",
       "        vertical-align: top;\n",
       "    }\n",
       "\n",
       "    .dataframe thead th {\n",
       "        text-align: right;\n",
       "    }\n",
       "</style>\n",
       "<table border=\"1\" class=\"dataframe\">\n",
       "  <thead>\n",
       "    <tr style=\"text-align: right;\">\n",
       "      <th></th>\n",
       "      <th>state</th>\n",
       "      <th>total_earnings</th>\n",
       "      <th>no_disability_earnings</th>\n",
       "      <th>disability_earnings</th>\n",
       "      <th>earnings_gap</th>\n",
       "      <th>SSDI_allowance_rate</th>\n",
       "      <th>min_wage_rate</th>\n",
       "    </tr>\n",
       "  </thead>\n",
       "  <tbody>\n",
       "  </tbody>\n",
       "</table>\n",
       "</div>"
      ],
      "text/plain": [
       "Empty DataFrame\n",
       "Columns: [state, total_earnings, no_disability_earnings, disability_earnings, earnings_gap, SSDI_allowance_rate, min_wage_rate]\n",
       "Index: []"
      ]
     },
     "execution_count": 35,
     "metadata": {},
     "output_type": "execute_result"
    }
   ],
   "source": [
    "#Checking for duplicates in earnings data set\n",
    "earn_dups = earn[earn.duplicated()]\n",
    "earn_dups"
   ]
  },
  {
   "cell_type": "markdown",
   "id": "3bb1840b",
   "metadata": {},
   "source": [
    "There are no duplicates in any of the data sets."
   ]
  },
  {
   "cell_type": "code",
   "execution_count": 38,
   "id": "af843050",
   "metadata": {},
   "outputs": [],
   "source": [
    "earn.to_csv(os.path.join(path, '02 Data', 'Prepared Data', 'earn2.csv'))"
   ]
  },
  {
   "cell_type": "code",
   "execution_count": null,
   "id": "de9068f8",
   "metadata": {},
   "outputs": [],
   "source": []
  }
 ],
 "metadata": {
  "kernelspec": {
   "display_name": "Python 3 (ipykernel)",
   "language": "python",
   "name": "python3"
  },
  "language_info": {
   "codemirror_mode": {
    "name": "ipython",
    "version": 3
   },
   "file_extension": ".py",
   "mimetype": "text/x-python",
   "name": "python",
   "nbconvert_exporter": "python",
   "pygments_lexer": "ipython3",
   "version": "3.11.5"
  }
 },
 "nbformat": 4,
 "nbformat_minor": 5
}
